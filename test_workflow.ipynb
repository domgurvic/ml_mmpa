{
 "cells": [
  {
   "cell_type": "code",
   "execution_count": 2,
   "id": "20554643-8770-4252-a556-1d4bbf7583d8",
   "metadata": {},
   "outputs": [],
   "source": [
    "import ml_mmpa\n",
    "import pandas as pd"
   ]
  },
  {
   "cell_type": "code",
   "execution_count": 8,
   "id": "2f060636-1ef2-490a-84ea-a873fde03af3",
   "metadata": {},
   "outputs": [],
   "source": [
    "# Import data\n",
    "\n",
    "test_data = pd.read_csv('test_data/test_data.csv')"
   ]
  },
  {
   "cell_type": "code",
   "execution_count": 7,
   "id": "b5fcf0f0-f4d6-455d-a338-d11b54c71c4f",
   "metadata": {
    "collapsed": true,
    "jupyter": {
     "outputs_hidden": true
    },
    "tags": []
   },
   "outputs": [
    {
     "data": {
      "text/html": [
       "<div>\n",
       "<style scoped>\n",
       "    .dataframe tbody tr th:only-of-type {\n",
       "        vertical-align: middle;\n",
       "    }\n",
       "\n",
       "    .dataframe tbody tr th {\n",
       "        vertical-align: top;\n",
       "    }\n",
       "\n",
       "    .dataframe thead th {\n",
       "        text-align: right;\n",
       "    }\n",
       "</style>\n",
       "<table border=\"1\" class=\"dataframe\">\n",
       "  <thead>\n",
       "    <tr style=\"text-align: right;\">\n",
       "      <th></th>\n",
       "      <th>Smiles</th>\n",
       "      <th>pMIC</th>\n",
       "    </tr>\n",
       "  </thead>\n",
       "  <tbody>\n",
       "    <tr>\n",
       "      <th>0</th>\n",
       "      <td>CCCCCCCCCCCCCCCCCC(=O)NC(CCCN)C(=O)NC(CCCN)C(=...</td>\n",
       "      <td>4.99</td>\n",
       "    </tr>\n",
       "    <tr>\n",
       "      <th>1</th>\n",
       "      <td>CC1CN(c2c(F)cc3c(=O)c(C(=O)O)cn(C4CC4)c3c2Cl)CCN1</td>\n",
       "      <td>7.18</td>\n",
       "    </tr>\n",
       "    <tr>\n",
       "      <th>2</th>\n",
       "      <td>CN[C@@H]1[C@@H](O)[C@@H](O[C@@H]2[C@@H](O)[C@H...</td>\n",
       "      <td>5.44</td>\n",
       "    </tr>\n",
       "    <tr>\n",
       "      <th>3</th>\n",
       "      <td>CCCCCCCC(=O)N[C@@H](C(=O)N[C@H](CCN)C(=O)N(C)C...</td>\n",
       "      <td>4.48</td>\n",
       "    </tr>\n",
       "    <tr>\n",
       "      <th>4</th>\n",
       "      <td>O=C(O)c1cn(C2CC2)c2c(cc(F)c3nn(CN4CCOCC4)c(=S)...</td>\n",
       "      <td>6.53</td>\n",
       "    </tr>\n",
       "  </tbody>\n",
       "</table>\n",
       "</div>"
      ],
      "text/plain": [
       "                                              Smiles  pMIC\n",
       "0  CCCCCCCCCCCCCCCCCC(=O)NC(CCCN)C(=O)NC(CCCN)C(=...  4.99\n",
       "1  CC1CN(c2c(F)cc3c(=O)c(C(=O)O)cn(C4CC4)c3c2Cl)CCN1  7.18\n",
       "2  CN[C@@H]1[C@@H](O)[C@@H](O[C@@H]2[C@@H](O)[C@H...  5.44\n",
       "3  CCCCCCCC(=O)N[C@@H](C(=O)N[C@H](CCN)C(=O)N(C)C...  4.48\n",
       "4  O=C(O)c1cn(C2CC2)c2c(cc(F)c3nn(CN4CCOCC4)c(=S)...  6.53"
      ]
     },
     "execution_count": 7,
     "metadata": {},
     "output_type": "execute_result"
    }
   ],
   "source": [
    "# Your data should have two columns: 'SMILES', 'Property'\n",
    "\n",
    "test_data.head()"
   ]
  },
  {
   "cell_type": "code",
   "execution_count": 9,
   "id": "385a7ca9-2a93-486d-8a48-438b367d6712",
   "metadata": {
    "jp-MarkdownHeadingCollapsed": true,
    "tags": []
   },
   "outputs": [],
   "source": [
    "# carry out mmpa\n",
    "# clean mmpa\n",
    "# prodcue functions for mmpa\n",
    "# summarise results in a table"
   ]
  },
  {
   "cell_type": "markdown",
   "id": "5a2c5a54-fd3f-4d4f-9c14-94344edcdc8d",
   "metadata": {},
   "source": [
    "### MMPA"
   ]
  },
  {
   "cell_type": "code",
   "execution_count": 1,
   "id": "7c3d5fb2-4b59-44a0-b484-33d11aac9c37",
   "metadata": {},
   "outputs": [
    {
     "name": "stdout",
     "output_type": "stream",
     "text": [
      "-f\n"
     ]
    }
   ],
   "source": [
    "import sys\n",
    "\n",
    "def abc(xyz):\n",
    "    print(xyz)\n",
    "\n",
    "if __name__ == \"__main__\":\n",
    "    abc(sys.argv[1])"
   ]
  },
  {
   "cell_type": "code",
   "execution_count": 5,
   "id": "dd689df1-17d7-42c9-b7e1-498509963c62",
   "metadata": {
    "collapsed": true,
    "jupyter": {
     "outputs_hidden": true
    },
    "tags": []
   },
   "outputs": [
    {
     "name": "stdout",
     "output_type": "stream",
     "text": [
      "python: can't open file 'mmpa_auxiliary/parse.py': [Errno 2] No such file or directory\n",
      "Traceback (most recent call last):\n",
      "  File \"mmpdb/mmpdb\", line 11, in <module>\n",
      "    commandline.main()\n",
      "  File \"/cluster/uz_lab/dgurvic/git_projects/ml_mmpa/mmpdb/mmpdblib/commandline.py\", line 1054, in main\n",
      "    parsed_args.command(parsed_args.subparser, parsed_args)\n",
      "  File \"/cluster/uz_lab/dgurvic/git_projects/ml_mmpa/mmpdb/mmpdblib/commandline.py\", line 181, in fragment_command\n",
      "    do_fragment.fragment_command(parser, args)\n",
      "  File \"/cluster/uz_lab/dgurvic/git_projects/ml_mmpa/mmpdb/mmpdblib/do_fragment.py\", line 575, in fragment_command\n",
      "    args.delimiter, args.has_header) as reader:\n",
      "  File \"/cluster/uz_lab/dgurvic/git_projects/ml_mmpa/mmpdb/mmpdblib/fileio.py\", line 503, in read_smiles_file\n",
      "    infile = open_universal(filename)\n",
      "  File \"/cluster/uz_lab/dgurvic/git_projects/ml_mmpa/mmpdb/mmpdblib/_compat.py\", line 62, in open_universal\n",
      "    return open(filename, \"r\", newline=None)\n",
      "FileNotFoundError: [Errno 2] No such file or directory: ''\n",
      "Traceback (most recent call last):\n",
      "  File \"mmpdb/mmpdb\", line 11, in <module>\n",
      "    commandline.main()\n",
      "  File \"/cluster/uz_lab/dgurvic/git_projects/ml_mmpa/mmpdb/mmpdblib/commandline.py\", line 1054, in main\n",
      "    parsed_args.command(parsed_args.subparser, parsed_args)\n",
      "  File \"/cluster/uz_lab/dgurvic/git_projects/ml_mmpa/mmpdb/mmpdblib/commandline.py\", line 393, in index_command\n",
      "    do_index.index_command(parser, args)\n",
      "  File \"/cluster/uz_lab/dgurvic/git_projects/ml_mmpa/mmpdb/mmpdblib/do_index.py\", line 170, in index_command\n",
      "    fragment_reader = fragment_io.read_fragment_records(args.fragment_filename)\n",
      "  File \"/cluster/uz_lab/dgurvic/git_projects/ml_mmpa/mmpdb/mmpdblib/fragment_io.py\", line 114, in read_fragment_records\n",
      "    infile = fileio.open_input(source)\n",
      "  File \"/cluster/uz_lab/dgurvic/git_projects/ml_mmpa/mmpdb/mmpdblib/fileio.py\", line 71, in open_input\n",
      "    return open_universal(filename)\n",
      "  File \"/cluster/uz_lab/dgurvic/git_projects/ml_mmpa/mmpdb/mmpdblib/_compat.py\", line 62, in open_universal\n",
      "    return open(filename, \"r\", newline=None)\n",
      "FileNotFoundError: [Errno 2] No such file or directory: ''\n",
      "python: can't open file 'mmpa_auxiliary/add_prop.py': [Errno 2] No such file or directory\n"
     ]
    }
   ],
   "source": [
    "\n",
    "\n",
    "# Bash script to carry out mmpa (from mmpdb) and parse it's output to geenrate desired .csv outcome\n",
    "\n",
    "# Parse the privided smiles files as $1 argument and name as $2 argument\n",
    "! python mmpa_auxiliary/parse.py $1 $2\n",
    "\n",
    "! smi=$\".smi\"\n",
    "! frag=$\".fragments\"\n",
    "\n",
    "# next two lines carry out the mmpa\n",
    "! python mmpdb/mmpdb fragment \"$2$smi\" -o \"$2$frag\"\n",
    "! python mmpdb/mmpdb index \"$2$frag\" -o \"index_$2.csv\"\n",
    "\n",
    "# process the mmpdb outputs to generate desired outcome\n",
    "! python mmpa_auxiliary/add_prop.py \"index_$2.csv\" \"$2_property.csv\"\n",
    "\n"
   ]
  },
  {
   "cell_type": "code",
   "execution_count": null,
   "id": "ea9e42fc-1cc6-46fb-9775-2259b0a944f7",
   "metadata": {},
   "outputs": [],
   "source": []
  }
 ],
 "metadata": {
  "kernelspec": {
   "display_name": "Python [conda env:miniconda3-jupt_test]",
   "language": "python",
   "name": "conda-env-miniconda3-jupt_test-py"
  },
  "language_info": {
   "codemirror_mode": {
    "name": "ipython",
    "version": 3
   },
   "file_extension": ".py",
   "mimetype": "text/x-python",
   "name": "python",
   "nbconvert_exporter": "python",
   "pygments_lexer": "ipython3",
   "version": "3.7.7"
  }
 },
 "nbformat": 4,
 "nbformat_minor": 5
}
