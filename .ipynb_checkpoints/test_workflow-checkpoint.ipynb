{
 "cells": [
  {
   "cell_type": "code",
   "execution_count": 2,
   "id": "20554643-8770-4252-a556-1d4bbf7583d8",
   "metadata": {},
   "outputs": [],
   "source": [
    "import ml_mmpa\n",
    "import pandas as pd"
   ]
  },
  {
   "cell_type": "code",
   "execution_count": 8,
   "id": "2f060636-1ef2-490a-84ea-a873fde03af3",
   "metadata": {},
   "outputs": [],
   "source": [
    "# Import data\n",
    "\n",
    "test_data = pd.read_csv('test_data/test_data.csv')"
   ]
  },
  {
   "cell_type": "code",
   "execution_count": 7,
   "id": "b5fcf0f0-f4d6-455d-a338-d11b54c71c4f",
   "metadata": {},
   "outputs": [
    {
     "data": {
      "text/html": [
       "<div>\n",
       "<style scoped>\n",
       "    .dataframe tbody tr th:only-of-type {\n",
       "        vertical-align: middle;\n",
       "    }\n",
       "\n",
       "    .dataframe tbody tr th {\n",
       "        vertical-align: top;\n",
       "    }\n",
       "\n",
       "    .dataframe thead th {\n",
       "        text-align: right;\n",
       "    }\n",
       "</style>\n",
       "<table border=\"1\" class=\"dataframe\">\n",
       "  <thead>\n",
       "    <tr style=\"text-align: right;\">\n",
       "      <th></th>\n",
       "      <th>Smiles</th>\n",
       "      <th>pMIC</th>\n",
       "    </tr>\n",
       "  </thead>\n",
       "  <tbody>\n",
       "    <tr>\n",
       "      <th>0</th>\n",
       "      <td>CCCCCCCCCCCCCCCCCC(=O)NC(CCCN)C(=O)NC(CCCN)C(=...</td>\n",
       "      <td>4.99</td>\n",
       "    </tr>\n",
       "    <tr>\n",
       "      <th>1</th>\n",
       "      <td>CC1CN(c2c(F)cc3c(=O)c(C(=O)O)cn(C4CC4)c3c2Cl)CCN1</td>\n",
       "      <td>7.18</td>\n",
       "    </tr>\n",
       "    <tr>\n",
       "      <th>2</th>\n",
       "      <td>CN[C@@H]1[C@@H](O)[C@@H](O[C@@H]2[C@@H](O)[C@H...</td>\n",
       "      <td>5.44</td>\n",
       "    </tr>\n",
       "    <tr>\n",
       "      <th>3</th>\n",
       "      <td>CCCCCCCC(=O)N[C@@H](C(=O)N[C@H](CCN)C(=O)N(C)C...</td>\n",
       "      <td>4.48</td>\n",
       "    </tr>\n",
       "    <tr>\n",
       "      <th>4</th>\n",
       "      <td>O=C(O)c1cn(C2CC2)c2c(cc(F)c3nn(CN4CCOCC4)c(=S)...</td>\n",
       "      <td>6.53</td>\n",
       "    </tr>\n",
       "  </tbody>\n",
       "</table>\n",
       "</div>"
      ],
      "text/plain": [
       "                                              Smiles  pMIC\n",
       "0  CCCCCCCCCCCCCCCCCC(=O)NC(CCCN)C(=O)NC(CCCN)C(=...  4.99\n",
       "1  CC1CN(c2c(F)cc3c(=O)c(C(=O)O)cn(C4CC4)c3c2Cl)CCN1  7.18\n",
       "2  CN[C@@H]1[C@@H](O)[C@@H](O[C@@H]2[C@@H](O)[C@H...  5.44\n",
       "3  CCCCCCCC(=O)N[C@@H](C(=O)N[C@H](CCN)C(=O)N(C)C...  4.48\n",
       "4  O=C(O)c1cn(C2CC2)c2c(cc(F)c3nn(CN4CCOCC4)c(=S)...  6.53"
      ]
     },
     "execution_count": 7,
     "metadata": {},
     "output_type": "execute_result"
    }
   ],
   "source": [
    "# Your data should have two columns: 'SMILES', 'Property'\n",
    "\n",
    "test_data.head()"
   ]
  },
  {
   "cell_type": "code",
   "execution_count": 9,
   "id": "385a7ca9-2a93-486d-8a48-438b367d6712",
   "metadata": {
    "jp-MarkdownHeadingCollapsed": true,
    "tags": []
   },
   "outputs": [],
   "source": [
    "# carry out mmpa\n",
    "# clean mmpa\n",
    "# prodcue functions for mmpa\n",
    "# summarise results in a table"
   ]
  },
  {
   "cell_type": "markdown",
   "id": "5a2c5a54-fd3f-4d4f-9c14-94344edcdc8d",
   "metadata": {},
   "source": [
    "### MMPA"
   ]
  },
  {
   "cell_type": "code",
   "execution_count": null,
   "id": "6908d984-956b-4b2a-acee-0d5a5ca7eb42",
   "metadata": {},
   "outputs": [],
   "source": []
  },
  {
   "cell_type": "code",
   "execution_count": null,
   "id": "86be05b8-c5e7-4b7c-83bc-a4498cd9381c",
   "metadata": {},
   "outputs": [],
   "source": []
  },
  {
   "cell_type": "code",
   "execution_count": null,
   "id": "69a94f21-2ff6-4148-b186-d29deb256acd",
   "metadata": {},
   "outputs": [],
   "source": []
  },
  {
   "cell_type": "code",
   "execution_count": null,
   "id": "7c3d5fb2-4b59-44a0-b484-33d11aac9c37",
   "metadata": {},
   "outputs": [],
   "source": []
  }
 ],
 "metadata": {
  "kernelspec": {
   "display_name": "Python [conda env:miniconda3-jupt_test]",
   "language": "python",
   "name": "conda-env-miniconda3-jupt_test-py"
  },
  "language_info": {
   "codemirror_mode": {
    "name": "ipython",
    "version": 3
   },
   "file_extension": ".py",
   "mimetype": "text/x-python",
   "name": "python",
   "nbconvert_exporter": "python",
   "pygments_lexer": "ipython3",
   "version": "3.7.7"
  }
 },
 "nbformat": 4,
 "nbformat_minor": 5
}
